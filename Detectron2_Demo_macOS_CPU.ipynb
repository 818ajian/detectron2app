{
 "cells": [
  {
   "cell_type": "markdown",
   "metadata": {},
   "source": [
    "## Inference Demo with Pre-trained Models: Python.\n",
    "\n",
    "\n",
    "### Create the virtual environment\n",
    "Install the conda environment before running this notebook. \n",
    "```bash\n",
    "conda env create -f environment.yml\n",
    "conda activate detectron2\n",
    "```\n",
    "\n",
    "### Install the Detectron2 for MacOS (CPU)\n",
    "\n",
    "```bash\n",
    "git clone https://github.com/facebookresearch/detectron2.git\n",
    "```\n",
    "\n",
    "Open `detectron2/detectron2/config/defaults.py` change the line 28:\n",
    "```python\n",
    "...\n",
    "# _C.MODEL.DEVICE = \"cuda\"\n",
    "_C.MODEL.DEVICE = \"cpu\"\n",
    "...\n",
    "```\n",
    "\n",
    "Then in the root foler run the following command to install the pacakge:\n",
    "```base\n",
    "CC=clang CXX=clang++ python -m pip install -e detectron2\n",
    "```\n",
    "\n"
   ]
  },
  {
   "cell_type": "markdown",
   "metadata": {},
   "source": [
    "##  Instance Segmentation: Image"
   ]
  },
  {
   "cell_type": "code",
   "execution_count": null,
   "metadata": {
    "ExecuteTime": {
     "end_time": "2020-06-21T09:51:12.982498Z",
     "start_time": "2020-06-21T09:51:12.351818Z"
    }
   },
   "outputs": [],
   "source": [
    "# Some basic setup:\n",
    "import torch, torchvision\n",
    "print(torch.__version__, torch.cuda.is_available())"
   ]
  },
  {
   "cell_type": "code",
   "execution_count": null,
   "metadata": {
    "ExecuteTime": {
     "end_time": "2020-06-21T09:51:13.933525Z",
     "start_time": "2020-06-21T09:51:13.650602Z"
    }
   },
   "outputs": [],
   "source": [
    "# Setup detectron2 logger\n",
    "import detectron2\n",
    "print(detectron2.__version__)\n",
    "\n",
    "from detectron2.utils.logger import setup_logger\n",
    "setup_logger()\n",
    "\n",
    "# import some common libraries\n",
    "import numpy as np\n",
    "import random"
   ]
  },
  {
   "cell_type": "code",
   "execution_count": null,
   "metadata": {
    "ExecuteTime": {
     "end_time": "2020-06-21T09:51:15.100418Z",
     "start_time": "2020-06-21T09:51:14.715253Z"
    }
   },
   "outputs": [],
   "source": [
    "# import some common detectron2 utilities\n",
    "from detectron2 import model_zoo\n",
    "from detectron2.engine import DefaultPredictor\n",
    "from detectron2.config import get_cfg\n",
    "from detectron2.utils.visualizer import Visualizer\n",
    "from detectron2.data import MetadataCatalog"
   ]
  },
  {
   "cell_type": "code",
   "execution_count": null,
   "metadata": {
    "ExecuteTime": {
     "end_time": "2020-06-21T09:51:16.680957Z",
     "start_time": "2020-06-21T09:51:15.751812Z"
    }
   },
   "outputs": [],
   "source": [
    "from matplotlib import pyplot as plt\n",
    "import cv2\n",
    "sample_image_path = './data/MVD_research_samples/Oceania/kdbqeR8gwZlS-gEXQMWo_g.jpg'\n",
    "im = cv2.cvtColor(cv2.imread(sample_image_path), cv2.COLOR_BGR2RGB)\n",
    "plt.figure(figsize=[12.8, 9.6])\n",
    "plt.imshow(im)"
   ]
  },
  {
   "cell_type": "code",
   "execution_count": null,
   "metadata": {
    "ExecuteTime": {
     "end_time": "2020-06-21T09:55:21.476357Z",
     "start_time": "2020-06-21T09:55:13.051750Z"
    }
   },
   "outputs": [],
   "source": [
    "config_model_name = \"COCO-InstanceSegmentation/mask_rcnn_R_50_FPN_3x.yaml\"\n",
    "threshold = 0.1\n",
    "cfg = get_cfg()\n",
    "# add project-specific config (e.g., TensorMask) here if you're not running a model in detectron2's core library\n",
    "cfg.merge_from_file(model_zoo.get_config_file(config_model_name))\n",
    "cfg.MODEL.ROI_HEADS.SCORE_THRESH_TEST = threshold  # set threshold for this model\n",
    "# Find a model from detectron2's model zoo. You can use the https://dl.fbaipublicfiles... url as well\n",
    "cfg.MODEL.WEIGHTS = model_zoo.get_checkpoint_url(config_model_name)\n",
    "predictor = DefaultPredictor(cfg)\n",
    "outputs = predictor(im)"
   ]
  },
  {
   "cell_type": "code",
   "execution_count": null,
   "metadata": {
    "ExecuteTime": {
     "end_time": "2020-06-21T09:55:22.318476Z",
     "start_time": "2020-06-21T09:55:22.313693Z"
    }
   },
   "outputs": [],
   "source": [
    "print(outputs[\"instances\"].scores)\n",
    "print(outputs[\"instances\"].pred_classes)\n",
    "# print(outputs[\"instances\"].pred_boxes)"
   ]
  },
  {
   "cell_type": "code",
   "execution_count": null,
   "metadata": {
    "ExecuteTime": {
     "end_time": "2020-06-21T09:55:25.418316Z",
     "start_time": "2020-06-21T09:55:24.488710Z"
    }
   },
   "outputs": [],
   "source": [
    "v = Visualizer(im, MetadataCatalog.get(cfg.DATASETS.TRAIN[0]), scale=1)\n",
    "out = v.draw_instance_predictions(outputs[\"instances\"].to(\"cpu\"))\n",
    "im_out = out.get_image()"
   ]
  },
  {
   "cell_type": "code",
   "execution_count": null,
   "metadata": {
    "ExecuteTime": {
     "end_time": "2020-06-21T09:55:26.468310Z",
     "start_time": "2020-06-21T09:55:25.444211Z"
    }
   },
   "outputs": [],
   "source": [
    "plt.figure(figsize=[12.8, 9.6])\n",
    "plt.imshow(im_out)\n",
    "cv2.imwrite('results/output-InstanceSegmentation.png', cv2.cvtColor(im_out, cv2.COLOR_RGB2BGR))"
   ]
  },
  {
   "cell_type": "markdown",
   "metadata": {},
   "source": [
    "###  Panoptic Segmentation: Image"
   ]
  },
  {
   "cell_type": "code",
   "execution_count": null,
   "metadata": {
    "ExecuteTime": {
     "end_time": "2020-06-21T09:51:54.902096Z",
     "start_time": "2020-06-21T09:51:36.363227Z"
    }
   },
   "outputs": [],
   "source": [
    "# Inference with a panoptic segmentation model\n",
    "config_model_name = \"COCO-PanopticSegmentation/panoptic_fpn_R_101_3x.yaml\"\n",
    "cfg = get_cfg()\n",
    "cfg.merge_from_file(model_zoo.get_config_file(config_model_name))\n",
    "cfg.MODEL.WEIGHTS = model_zoo.get_checkpoint_url(config_model_name)\n",
    "predictor = DefaultPredictor(cfg)\n",
    "panoptic_seg, segments_info = predictor(im)[\"panoptic_seg\"]\n",
    "\n",
    "v = Visualizer(im, MetadataCatalog.get(cfg.DATASETS.TRAIN[0]), scale=1)\n",
    "out = v.draw_panoptic_seg_predictions(panoptic_seg.to(\"cpu\"), segments_info)"
   ]
  },
  {
   "cell_type": "code",
   "execution_count": null,
   "metadata": {
    "ExecuteTime": {
     "end_time": "2020-06-21T09:54:32.053933Z",
     "start_time": "2020-06-21T09:54:29.108113Z"
    }
   },
   "outputs": [],
   "source": [
    "im_out = out.get_image()\n",
    "plt.figure(figsize=[12.8, 9.6])\n",
    "plt.imshow(im_out)\n",
    "cv2.imwrite('results/output-PanopticSegmentation.png', cv2.cvtColor(im_out, cv2.COLOR_RGB2BGR))"
   ]
  },
  {
   "cell_type": "markdown",
   "metadata": {},
   "source": [
    "## Inference Image Demo with Pre-trained Models: Command Line.\n",
    "\n",
    "Pick a model and its config file from model zoo, for example, mask_rcnn_R_50_FPN_3x.yaml.\n",
    "Detectron2 provides the `demo.py` that is able to run builtin standard models. Run it with:\n",
    "\n",
    "```bash\n",
    "!python detectron2/demo/demo.py --config-file detectron2/configs/COCO-PanopticSegmentation/panoptic_fpn_R_101_3x.yaml  \\\n",
    "  --input input1.jpg input2.jpg \\\n",
    "  [--other-options]\n",
    "  --opts MODEL.WEIGHTS detectron2://COCO-InstanceSegmentation/mask_rcnn_R_50_FPN_3x/137849600/model_final_f10217.pkl\n",
    "\n",
    "```\n",
    "To repeat the above python command"
   ]
  },
  {
   "cell_type": "markdown",
   "metadata": {},
   "source": [
    "### COCO-InstanceSegmentation/mask_rcnn_R_50_FPN_3x.yaml"
   ]
  },
  {
   "cell_type": "code",
   "execution_count": null,
   "metadata": {
    "ExecuteTime": {
     "end_time": "2020-06-21T09:52:13.695580Z",
     "start_time": "2020-06-21T09:52:01.975247Z"
    }
   },
   "outputs": [],
   "source": [
    "!python detectron2/demo/demo.py \\\n",
    "--config-file detectron2/configs/COCO-InstanceSegmentation/mask_rcnn_R_50_FPN_3x.yaml \\\n",
    "--input data/MVD_research_samples/Oceania/kdbqeR8gwZlS-gEXQMWo_g.jpg \\\n",
    "--confidence-threshold 0.1 \\\n",
    "--output results/output-InstanceSegmentation-cmd.png \\\n",
    "--opts MODEL.WEIGHTS detectron2://COCO-InstanceSegmentation/mask_rcnn_R_50_FPN_3x/137849600/model_final_f10217.pkl"
   ]
  },
  {
   "cell_type": "markdown",
   "metadata": {
    "ExecuteTime": {
     "end_time": "2020-06-21T09:46:19.571721Z",
     "start_time": "2020-06-21T09:46:19.568994Z"
    }
   },
   "source": [
    "### COCO-PanopticSegmentation/panoptic_fpn_R_101_3x.yaml"
   ]
  },
  {
   "cell_type": "code",
   "execution_count": null,
   "metadata": {
    "ExecuteTime": {
     "end_time": "2020-06-21T09:52:40.212418Z",
     "start_time": "2020-06-21T09:52:15.173481Z"
    }
   },
   "outputs": [],
   "source": [
    "!python detectron2/demo/demo.py \\\n",
    "--config-file detectron2/configs/COCO-PanopticSegmentation/panoptic_fpn_R_101_3x.yaml \\\n",
    "--input data/MVD_research_samples/Oceania/kdbqeR8gwZlS-gEXQMWo_g.jpg \\\n",
    "--confidence-threshold 0.6 \\\n",
    "--output results/output-PanopticSegmentation-cmd.png \\\n",
    "--opts MODEL.WEIGHTS detectron2://COCO-PanopticSegmentation/panoptic_fpn_R_101_3x/139514519/model_final_cafdb1.pkl"
   ]
  },
  {
   "cell_type": "markdown",
   "metadata": {},
   "source": [
    "## Inference Video Demo with Pre-trained Models: Command Line.\n",
    "\n",
    "Model Type: COCO-PanopticSegmentation/panoptic_fpn_R_101_3x.yaml\n",
    "\n",
    "This 1s video clip may cost 0.5 hour to run on MacOS CPU. Here is just a demo to prove it works. "
   ]
  },
  {
   "cell_type": "code",
   "execution_count": null,
   "metadata": {
    "ExecuteTime": {
     "start_time": "2020-06-21T10:00:00.513Z"
    }
   },
   "outputs": [],
   "source": [
    "!python detectron2/demo/demo.py \\\n",
    "--config-file detectron2/configs/COCO-PanopticSegmentation/panoptic_fpn_R_101_3x.yaml \\\n",
    "--video-input data/video/video-clip-1s.mp4 \\\n",
    "--confidence-threshold 0.6 \\\n",
    "--output results/video-output.mkv \\\n",
    "--opts MODEL.WEIGHTS detectron2://COCO-PanopticSegmentation/panoptic_fpn_R_101_3x/139514519/model_final_cafdb1.pkl"
   ]
  },
  {
   "cell_type": "code",
   "execution_count": null,
   "metadata": {},
   "outputs": [],
   "source": []
  }
 ],
 "metadata": {
  "kernelspec": {
   "display_name": "Detectron2",
   "language": "python",
   "name": "detectron2"
  },
  "language_info": {
   "codemirror_mode": {
    "name": "ipython",
    "version": 3
   },
   "file_extension": ".py",
   "mimetype": "text/x-python",
   "name": "python",
   "nbconvert_exporter": "python",
   "pygments_lexer": "ipython3",
   "version": "3.7.6"
  },
  "varInspector": {
   "cols": {
    "lenName": 16,
    "lenType": 16,
    "lenVar": 40
   },
   "kernels_config": {
    "python": {
     "delete_cmd_postfix": "",
     "delete_cmd_prefix": "del ",
     "library": "var_list.py",
     "varRefreshCmd": "print(var_dic_list())"
    },
    "r": {
     "delete_cmd_postfix": ") ",
     "delete_cmd_prefix": "rm(",
     "library": "var_list.r",
     "varRefreshCmd": "cat(var_dic_list()) "
    }
   },
   "types_to_exclude": [
    "module",
    "function",
    "builtin_function_or_method",
    "instance",
    "_Feature"
   ],
   "window_display": false
  }
 },
 "nbformat": 4,
 "nbformat_minor": 4
}
